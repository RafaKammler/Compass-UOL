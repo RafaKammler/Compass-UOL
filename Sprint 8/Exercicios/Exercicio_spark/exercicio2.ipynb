{
 "cells": [
  {
   "cell_type": "markdown",
   "metadata": {},
   "source": [
    "# Exercicio PySpark"
   ]
  },
  {
   "cell_type": "markdown",
   "metadata": {},
   "source": [
    "## Etapa 1"
   ]
  },
  {
   "cell_type": "code",
   "execution_count": 1,
   "metadata": {},
   "outputs": [
    {
     "name": "stderr",
     "output_type": "stream",
     "text": [
      "24/07/29 00:51:33 WARN Utils: Your hostname, rafael resolves to a loopback address: 127.0.1.1; using 192.168.0.130 instead (on interface enp7s0)\n",
      "24/07/29 00:51:33 WARN Utils: Set SPARK_LOCAL_IP if you need to bind to another address\n",
      "Setting default log level to \"WARN\".\n",
      "To adjust logging level use sc.setLogLevel(newLevel). For SparkR, use setLogLevel(newLevel).\n",
      "24/07/29 00:51:33 WARN NativeCodeLoader: Unable to load native-hadoop library for your platform... using builtin-java classes where applicable\n"
     ]
    }
   ],
   "source": [
    "from pyspark.sql import SparkSession\n",
    "from pyspark import SparkContext, SQLContext\n",
    "from pyspark.sql.functions import col, rand, when, udf, expr\n",
    "import random\n",
    "from pyspark.sql.types import StringType, IntegerType\n",
    "\n",
    "spark = SparkSession.builder \\\n",
    "    .master(\"local[*]\") \\\n",
    "    .appName(\"Exercicio Intro\") \\\n",
    "    .getOrCreate()"
   ]
  },
  {
   "cell_type": "markdown",
   "metadata": {},
   "source": [
    "## Etapa 2"
   ]
  },
  {
   "cell_type": "code",
   "execution_count": 2,
   "metadata": {},
   "outputs": [
    {
     "name": "stdout",
     "output_type": "stream",
     "text": [
      "root\n",
      " |-- Nomes: string (nullable = true)\n",
      "\n",
      "+-----------------+\n",
      "|            Nomes|\n",
      "+-----------------+\n",
      "|   Frances Bennet|\n",
      "|    Jamie Russell|\n",
      "|   Edward Kistler|\n",
      "|    Sheila Maurer|\n",
      "| Donald Golightly|\n",
      "|       David Gray|\n",
      "|      Joy Bennett|\n",
      "|      Paul Kriese|\n",
      "|Berniece Ornellas|\n",
      "|    Brian Farrell|\n",
      "+-----------------+\n",
      "only showing top 10 rows\n",
      "\n"
     ]
    }
   ],
   "source": [
    "schema = \"Nomes STRING\"\n",
    "df_nomes = spark.read.csv(\"nomes_aleatorios.txt\", header = False, schema = schema)\n",
    "df_nomes.printSchema()\n",
    "df_nomes.show(10)"
   ]
  },
  {
   "cell_type": "markdown",
   "metadata": {},
   "source": [
    "## Etapa 3"
   ]
  },
  {
   "cell_type": "code",
   "execution_count": 3,
   "metadata": {},
   "outputs": [
    {
     "name": "stdout",
     "output_type": "stream",
     "text": [
      "+-----------------+------------+\n",
      "|            Nomes|Escolaridade|\n",
      "+-----------------+------------+\n",
      "|   Frances Bennet| Fundamental|\n",
      "|    Jamie Russell|       Medio|\n",
      "|   Edward Kistler|    Superior|\n",
      "|    Sheila Maurer| Fundamental|\n",
      "| Donald Golightly| Fundamental|\n",
      "|       David Gray|    Superior|\n",
      "|      Joy Bennett|    Superior|\n",
      "|      Paul Kriese| Fundamental|\n",
      "|Berniece Ornellas|       Medio|\n",
      "|    Brian Farrell|       Medio|\n",
      "+-----------------+------------+\n",
      "only showing top 10 rows\n",
      "\n"
     ]
    }
   ],
   "source": [
    "df_nomes = df_nomes.withColumn(\"Escolaridade\", when(rand() <= 1/3, \"Fundamental\").when(rand() <= 2/3, \"Medio\").otherwise(\"Superior\"))\n",
    "df_nomes.show(10)"
   ]
  },
  {
   "cell_type": "markdown",
   "metadata": {},
   "source": [
    "## Etapa 4"
   ]
  },
  {
   "cell_type": "code",
   "execution_count": 4,
   "metadata": {},
   "outputs": [
    {
     "name": "stdout",
     "output_type": "stream",
     "text": [
      "+-----------------+------------+---------+\n",
      "|            Nomes|Escolaridade|     Pais|\n",
      "+-----------------+------------+---------+\n",
      "|   Frances Bennet| Fundamental| Suriname|\n",
      "|    Jamie Russell|       Medio|  Equador|\n",
      "|   Edward Kistler|    Superior| Paraguai|\n",
      "|    Sheila Maurer| Fundamental|  Uruguai|\n",
      "| Donald Golightly| Fundamental|Venezuela|\n",
      "|       David Gray|    Superior| Colombia|\n",
      "|      Joy Bennett|    Superior|  Uruguai|\n",
      "|      Paul Kriese| Fundamental|   Brasil|\n",
      "|Berniece Ornellas|       Medio| Suriname|\n",
      "|    Brian Farrell|       Medio|Venezuela|\n",
      "+-----------------+------------+---------+\n",
      "only showing top 10 rows\n",
      "\n"
     ]
    }
   ],
   "source": [
    "paises_america_do_sul = [\"Brasil\", \"Argentina\", \"Uruguai\", \"Paraguai\", \"Chile\", \"Peru\", \"Colombia\", \"Venezuela\", \"Equador\", \"Bolivia\", \"Guiana\", \"Suriname\", \"Guiana Francesa\"]\n",
    "\n",
    "@udf(returnType=StringType())\n",
    "def pais_aleatorio():\n",
    "    return random.choice(paises_america_do_sul)\n",
    "\n",
    "df_nomes = df_nomes.withColumn(\"Pais\", pais_aleatorio())\n",
    "df_nomes.show(10)"
   ]
  },
  {
   "cell_type": "markdown",
   "metadata": {},
   "source": [
    "## Etapa 5"
   ]
  },
  {
   "cell_type": "code",
   "execution_count": 5,
   "metadata": {},
   "outputs": [
    {
     "name": "stdout",
     "output_type": "stream",
     "text": [
      "root\n",
      " |-- Nomes: string (nullable = true)\n",
      " |-- Escolaridade: string (nullable = false)\n",
      " |-- Pais: string (nullable = true)\n",
      " |-- AnoNascimento: integer (nullable = true)\n",
      "\n",
      "+-----------------+------------+---------------+-------------+\n",
      "|            Nomes|Escolaridade|           Pais|AnoNascimento|\n",
      "+-----------------+------------+---------------+-------------+\n",
      "|   Frances Bennet| Fundamental|       Suriname|         1967|\n",
      "|    Jamie Russell|       Medio|Guiana Francesa|         1970|\n",
      "|   Edward Kistler|    Superior|       Paraguai|         1997|\n",
      "|    Sheila Maurer| Fundamental|       Suriname|         1991|\n",
      "| Donald Golightly| Fundamental|        Uruguai|         1981|\n",
      "|       David Gray|    Superior|        Equador|         1964|\n",
      "|      Joy Bennett|    Superior|         Guiana|         2008|\n",
      "|      Paul Kriese| Fundamental|        Equador|         1999|\n",
      "|Berniece Ornellas|       Medio|      Argentina|         2002|\n",
      "|    Brian Farrell|       Medio|       Colombia|         1994|\n",
      "+-----------------+------------+---------------+-------------+\n",
      "only showing top 10 rows\n",
      "\n"
     ]
    }
   ],
   "source": [
    "anos_possiveis = list(range(1945, 2011))\n",
    "anos_possiveis_str = \",\".join(map(str, anos_possiveis))\n",
    "\n",
    "df_nomes = df_nomes.withColumn(\"AnoNascimento\", expr(f\"element_at(array({anos_possiveis_str}), cast(rand() * {len(anos_possiveis)} as int) + 1)\"))\n",
    "df_nomes = df_nomes.withColumn(\"AnoNascimento\", col(\"AnoNascimento\").cast(\"int\"))\n",
    "df_nomes.printSchema()\n",
    "df_nomes.show(10)"
   ]
  },
  {
   "cell_type": "markdown",
   "metadata": {},
   "source": [
    "## Etapa 6"
   ]
  },
  {
   "cell_type": "code",
   "execution_count": 6,
   "metadata": {},
   "outputs": [
    {
     "name": "stdout",
     "output_type": "stream",
     "text": [
      "+-----------------+------------+---------+-------------+\n",
      "|            Nomes|Escolaridade|     Pais|AnoNascimento|\n",
      "+-----------------+------------+---------+-------------+\n",
      "|      Joy Bennett|    Superior| Colombia|         2008|\n",
      "|Berniece Ornellas|       Medio| Suriname|         2002|\n",
      "|    Tracy Herring| Fundamental|  Equador|         2003|\n",
      "|  Howard Lazarine| Fundamental|Venezuela|         2006|\n",
      "|          Lois Ly|       Medio|Venezuela|         2007|\n",
      "|       Daryl Page| Fundamental|Argentina|         2001|\n",
      "|  Jerry Chynoweth|       Medio|Argentina|         2005|\n",
      "|   Rosie Lovelady|       Medio| Suriname|         2001|\n",
      "|      Donald Vogt|       Medio|    Chile|         2004|\n",
      "|    George Miller|       Medio| Suriname|         2002|\n",
      "+-----------------+------------+---------+-------------+\n",
      "only showing top 10 rows\n",
      "\n"
     ]
    }
   ],
   "source": [
    "df_select = df_nomes.select(\"*\").where(col(\"AnoNascimento\") > 2000)\n",
    "df_select.show(10)\n",
    "count_filtered = df_select.count()"
   ]
  },
  {
   "cell_type": "markdown",
   "metadata": {},
   "source": [
    "## Etapa 7"
   ]
  },
  {
   "cell_type": "code",
   "execution_count": 7,
   "metadata": {},
   "outputs": [
    {
     "name": "stderr",
     "output_type": "stream",
     "text": [
      "24/07/29 00:51:39 WARN SparkStringUtils: Truncated the string representation of a plan since it was too large. This behavior can be adjusted by setting 'spark.sql.debug.maxToStringFields'.\n"
     ]
    },
    {
     "name": "stdout",
     "output_type": "stream",
     "text": [
      "+-----------------+------------+---------------+-------------+\n",
      "|            Nomes|Escolaridade|           Pais|AnoNascimento|\n",
      "+-----------------+------------+---------------+-------------+\n",
      "|      Joy Bennett|    Superior|      Argentina|         2008|\n",
      "|Berniece Ornellas|       Medio|        Bolivia|         2002|\n",
      "|    Tracy Herring| Fundamental|          Chile|         2003|\n",
      "|  Howard Lazarine| Fundamental|       Colombia|         2006|\n",
      "|          Lois Ly|       Medio|        Bolivia|         2007|\n",
      "|       Daryl Page| Fundamental|        Equador|         2001|\n",
      "|  Jerry Chynoweth|       Medio|           Peru|         2005|\n",
      "|   Rosie Lovelady|       Medio|         Brasil|         2001|\n",
      "|      Donald Vogt|       Medio|Guiana Francesa|         2004|\n",
      "|    George Miller|       Medio|        Equador|         2002|\n",
      "+-----------------+------------+---------------+-------------+\n",
      "only showing top 10 rows\n",
      "\n"
     ]
    }
   ],
   "source": [
    "df_nomes.createOrReplaceTempView(\"nomes\")\n",
    "spark.sql(\"SELECT * FROM nomes WHERE AnoNascimento > 2000\").show(10)"
   ]
  },
  {
   "cell_type": "markdown",
   "metadata": {},
   "source": [
    "## Etapa 8"
   ]
  },
  {
   "cell_type": "code",
   "execution_count": 8,
   "metadata": {},
   "outputs": [
    {
     "name": "stdout",
     "output_type": "stream",
     "text": [
      "+----------------+------------+---------------+-------------+\n",
      "|           Nomes|Escolaridade|           Pais|AnoNascimento|\n",
      "+----------------+------------+---------------+-------------+\n",
      "|   Sheila Maurer| Fundamental|       Suriname|         1991|\n",
      "|Donald Golightly| Fundamental|      Argentina|         1981|\n",
      "|   Brian Farrell|       Medio|        Bolivia|         1994|\n",
      "|  Kara Mcelwaine| Fundamental|          Chile|         1990|\n",
      "|    Ernest Hulet|    Superior|         Brasil|         1983|\n",
      "|    David Medina|       Medio|          Chile|         1984|\n",
      "|     Albert Leef|       Medio|       Paraguai|         1981|\n",
      "|     Frank Wiley|    Superior|          Chile|         1983|\n",
      "|Wallace Mitchell| Fundamental|Guiana Francesa|         1980|\n",
      "|  Amanda Gravitt|    Superior|Guiana Francesa|         1983|\n",
      "+----------------+------------+---------------+-------------+\n",
      "only showing top 10 rows\n",
      "\n"
     ]
    }
   ],
   "source": [
    "df_millenials = df_nomes.select(\"*\").where((col(\"AnoNascimento\") >= 1980) & (col(\"AnoNascimento\") <= 1994))\n",
    "df_millenials.show(10)"
   ]
  },
  {
   "cell_type": "markdown",
   "metadata": {},
   "source": [
    "## Etapa 9"
   ]
  },
  {
   "cell_type": "code",
   "execution_count": 9,
   "metadata": {},
   "outputs": [
    {
     "name": "stdout",
     "output_type": "stream",
     "text": [
      "+----------------+------------+---------+-------------+\n",
      "|           Nomes|Escolaridade|     Pais|AnoNascimento|\n",
      "+----------------+------------+---------+-------------+\n",
      "|   Sheila Maurer| Fundamental|Argentina|         1991|\n",
      "|Donald Golightly| Fundamental|     Peru|         1981|\n",
      "|   Brian Farrell|       Medio| Colombia|         1994|\n",
      "|  Kara Mcelwaine| Fundamental| Colombia|         1990|\n",
      "|    Ernest Hulet|    Superior| Paraguai|         1983|\n",
      "|    David Medina|       Medio|Argentina|         1984|\n",
      "|     Albert Leef|       Medio|  Equador|         1981|\n",
      "|     Frank Wiley|    Superior| Paraguai|         1983|\n",
      "|Wallace Mitchell| Fundamental| Paraguai|         1980|\n",
      "|  Amanda Gravitt|    Superior| Colombia|         1983|\n",
      "+----------------+------------+---------+-------------+\n",
      "only showing top 10 rows\n",
      "\n"
     ]
    }
   ],
   "source": [
    "df_nomes.createOrReplaceTempView(\"nomes\")\n",
    "spark.sql(\"SELECT * FROM nomes WHERE AnoNascimento >= 1980 AND AnoNascimento <= 1994\").show(10)"
   ]
  },
  {
   "cell_type": "markdown",
   "metadata": {},
   "source": [
    "## Etapa 10"
   ]
  },
  {
   "cell_type": "code",
   "execution_count": 10,
   "metadata": {},
   "outputs": [
    {
     "name": "stderr",
     "output_type": "stream",
     "text": [
      "[Stage 11:======================================>                 (11 + 5) / 16]\r"
     ]
    },
    {
     "name": "stdout",
     "output_type": "stream",
     "text": [
      "+---------+------------+----------+\n",
      "|     Pais|     Geracao|Quantidade|\n",
      "+---------+------------+----------+\n",
      "|Argentina|Baby Boomers|    233464|\n",
      "|Argentina|   Geração X|    174618|\n",
      "|Argentina|   Geração Z|    186272|\n",
      "|Argentina| Millennials|    175020|\n",
      "|  Bolivia|Baby Boomers|    233901|\n",
      "|  Bolivia|   Geração X|    174587|\n",
      "|  Bolivia|   Geração Z|    186539|\n",
      "|  Bolivia| Millennials|    174572|\n",
      "|   Brasil|Baby Boomers|    233333|\n",
      "|   Brasil|   Geração X|    175459|\n",
      "|   Brasil|   Geração Z|    187081|\n",
      "|   Brasil| Millennials|    174470|\n",
      "|    Chile|Baby Boomers|    233545|\n",
      "|    Chile|   Geração X|    174970|\n",
      "|    Chile|   Geração Z|    186742|\n",
      "|    Chile| Millennials|    174722|\n",
      "| Colombia|Baby Boomers|    232799|\n",
      "| Colombia|   Geração X|    174378|\n",
      "| Colombia|   Geração Z|    186671|\n",
      "| Colombia| Millennials|    175059|\n",
      "+---------+------------+----------+\n",
      "only showing top 20 rows\n",
      "\n"
     ]
    },
    {
     "name": "stderr",
     "output_type": "stream",
     "text": [
      "                                                                                \r"
     ]
    }
   ],
   "source": [
    "spark.sql(\"\"\"\n",
    "SELECT \n",
    "Pais,\n",
    "    CASE\n",
    "        WHEN AnoNascimento BETWEEN 1944 AND 1964 THEN 'Baby Boomers'\n",
    "        WHEN AnoNascimento BETWEEN 1965 AND 1979 THEN 'Geração X'\n",
    "        WHEN AnoNascimento BETWEEN 1980 AND 1994 THEN 'Millennials'\n",
    "        WHEN AnoNascimento BETWEEN 1995 AND 2015 THEN 'Geração Z'\n",
    "    END AS Geracao,\n",
    "    COUNT(*) AS Quantidade\n",
    "FROM nomes\n",
    "GROUP BY Pais, Geracao\n",
    "ORDER BY Pais, Geracao, Quantidade\n",
    "\"\"\").show()"
   ]
  },
  {
   "cell_type": "code",
   "execution_count": 11,
   "metadata": {},
   "outputs": [],
   "source": [
    "spark.stop()"
   ]
  }
 ],
 "metadata": {
  "kernelspec": {
   "display_name": "Python 3",
   "language": "python",
   "name": "python3"
  },
  "language_info": {
   "codemirror_mode": {
    "name": "ipython",
    "version": 3
   },
   "file_extension": ".py",
   "mimetype": "text/x-python",
   "name": "python",
   "nbconvert_exporter": "python",
   "pygments_lexer": "ipython3",
   "version": "3.10.12"
  }
 },
 "nbformat": 4,
 "nbformat_minor": 2
}
